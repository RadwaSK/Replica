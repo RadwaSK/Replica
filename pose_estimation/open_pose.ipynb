{
 "cells": [
  {
   "cell_type": "code",
   "execution_count": null,
   "metadata": {
    "id": "t08Xt1XaJhRI"
   },
   "outputs": [],
   "source": [
    "# download and install the latest version of cmake\n",
    "! wget -c \"https://github.com/Kitware/CMake/releases/download/v3.14.4/cmake-3.14.4.tar.gz\"\n",
    "! tar xf cmake-3.14.4.tar.gz\n",
    "! cd cmake-3.14.4 && ./configure && make && sudo make install"
   ]
  },
  {
   "cell_type": "code",
   "execution_count": null,
   "metadata": {
    "id": "wDqjM6hgJkl2"
   },
   "outputs": [],
   "source": [
    "# download OpenPose from Git Repository\n",
    "! git clone https://github.com/CMU-Perceptual-Computing-Lab/openpose.git"
   ]
  },
  {
   "cell_type": "code",
   "execution_count": null,
   "metadata": {
    "id": "ZLLEZXPwJlCX"
   },
   "outputs": [],
   "source": [
    "# install dependencies\n",
    "! cd openpose/scripts/ubuntu && bash ./install_deps.sh && bash ./install_cuda.sh && bash ./install_cudnn.sh\n",
    "! apt install -y cmake sudo libopencv-dev"
   ]
  },
  {
   "cell_type": "code",
   "execution_count": 48,
   "metadata": {
    "id": "-nQe1lTeJldo"
   },
   "outputs": [],
   "source": [
    "! sed -i 's/execute_process(COMMAND git checkout master WORKING_DIRECTORY ${CMAKE_SOURCE_DIR}\\/3rdparty\\/caffe)/execute_process(COMMAND git checkout f019d0dfe86f49d1140961f8c7dec22130c83154 WORKING_DIRECTORY ${CMAKE_SOURCE_DIR}\\/3rdparty\\/caffe)/g' openpose/CMakeLists.txt"
   ]
  },
  {
   "cell_type": "code",
   "execution_count": null,
   "metadata": {
    "id": "FV8AdwPgJu1I"
   },
   "outputs": [],
   "source": [
    "! cd openpose && git pull origin master "
   ]
  },
  {
   "cell_type": "code",
   "execution_count": null,
   "metadata": {
    "id": "x8Ifb4xJJu6A"
   },
   "outputs": [],
   "source": [
    "# now the important step - compiling OpenPose with cmake\n",
    "! /bin/rm -r openpose/build\n",
    "! cd openpose && mkdir build && cd build && cmake .. && make -j `nproc`"
   ]
  },
  {
   "cell_type": "code",
   "execution_count": null,
   "metadata": {
    "id": "Iar5B77C4TgX"
   },
   "outputs": [],
   "source": [
    "from google.colab import drive\n",
    "drive.mount('/content/drive')"
   ]
  },
  {
   "cell_type": "code",
   "execution_count": null,
   "metadata": {
    "id": "aQIvAuvAJvFm"
   },
   "outputs": [],
   "source": [
    "# run on sample video\n",
    "! cd openpose && ./build/examples/openpose/openpose.bin --video ../stre.mp4 --display 0 --disable_blending -render_pose 0 --write_json ../street/ \n"
   ]
  },
  {
   "cell_type": "code",
   "execution_count": null,
   "metadata": {
    "id": "B_hDDLclwEXb"
   },
   "outputs": [],
   "source": [
    "! cd openpose && ./build/examples/openpose/openpose.bin --video ../run10-tar.mp4 --display 0 --disable_blending --write_video ../10.mp4"
   ]
  },
  {
   "cell_type": "code",
   "execution_count": 53,
   "metadata": {
    "id": "FOWbYU3upX_W"
   },
   "outputs": [],
   "source": []
  }
 ],
 "metadata": {
  "accelerator": "GPU",
  "colab": {
   "collapsed_sections": [],
   "name": "Untitled3.ipynb",
   "provenance": []
  },
  "kernelspec": {
   "display_name": "Python 3",
   "language": "python",
   "name": "python3"
  },
  "language_info": {
   "codemirror_mode": {
    "name": "ipython",
    "version": 3
   },
   "file_extension": ".py",
   "mimetype": "text/x-python",
   "name": "python",
   "nbconvert_exporter": "python",
   "pygments_lexer": "ipython3",
   "version": "3.8.8"
  }
 },
 "nbformat": 4,
 "nbformat_minor": 1
}
